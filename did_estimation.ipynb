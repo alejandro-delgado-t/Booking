{
 "cells": [
  {
   "cell_type": "markdown",
   "metadata": {},
   "source": [
    "# Homework 1"
   ]
  },
  {
   "cell_type": "markdown",
   "metadata": {},
   "source": [
    "## Part 3: DiD"
   ]
  },
  {
   "cell_type": "markdown",
   "metadata": {},
   "source": [
    "a) Write down a fixed effects regression equation that allows you to derive a difference in-difference estimate of the effect of the event on prices. Think of controls to\n",
    "add, why is this relevant? Explain why you need a second city for this."
   ]
  },
  {
   "attachments": {
    "image-7.png": {
     "image/png": "[encoded data removed]"
    }
   },
   "cell_type": "markdown",
   "metadata": {},
   "source": [
    "![image-7.png](attachment:image-7.png)"
   ]
  },
  {
   "cell_type": "markdown",
   "metadata": {},
   "source": [
    "In the equation above:\n",
    "- Price_it: Price of hotel i in time t.\n",
    "- β₀: This coefficient is the intercept, reflecting the average price in the control group one week before the Formula 1 event.\n",
    "- β₁: This coefficient measure the difference in prices between the control city and Barcelona before the event.\n",
    "- β2: This coefficient represents the price difference in the control city during the Formula 1.\n",
    "- β3: This coefficient represents the price change in Barcelona due to the Formula 1 event, and it is the DiD estimate. It considers the interaction between the treatment and the city, allowing us to get a causal effect of the Formula 1 event on prices un Barcelona. This is true if the common trend assumption holds.\n",
    "- γt: is the time fixed effects coefficient in our model. This term accounts for any unobserved time-varying factors that could bias our estimation. This term ensures that any price change affecting both cities equally is not mistaken with β3.\n",
    "- ϵ: is the error term.\n",
    "​"
   ]
  },
  {
   "cell_type": "code",
   "execution_count": 1,
   "metadata": {},
   "outputs": [],
   "source": [
    "# Importing Packages\n",
    "import numpy as np\n",
    "import pandas as pd\n",
    "import statsmodels.api as sm\n",
    "import statsmodels.formula.api as smf\n",
    "import matplotlib.pyplot as plt"
   ]
  },
  {
   "cell_type": "code",
   "execution_count": 2,
   "metadata": {},
   "outputs": [],
   "source": [
    "# Importing data from CSV files\n",
    "barcelona_t = pd.read_csv(r\"C:\\Users\\aleja\\OneDrive\\Escritorio\\Term_2\\Text_Mining\\web_scrapping\\Booking\\data\\hotel_data_barcelona_treatment.csv\")\n",
    "barcelona_c = pd.read_csv(r\"C:\\Users\\aleja\\OneDrive\\Escritorio\\Term_2\\Text_Mining\\web_scrapping\\Booking\\data\\hotel_data_barcelona_control.csv\")\n",
    "lisbon_t = pd.read_csv(r\"C:\\Users\\aleja\\OneDrive\\Escritorio\\Term_2\\Text_Mining\\web_scrapping\\Booking\\data\\hotel_data_lisbon_treatment.csv\")\n",
    "lisbon_c = pd.read_csv(r\"C:\\Users\\aleja\\OneDrive\\Escritorio\\Term_2\\Text_Mining\\web_scrapping\\Booking\\data\\hotel_data_lisbon_control.csv\")"
   ]
  },
  {
   "cell_type": "code",
   "execution_count": 3,
   "metadata": {},
   "outputs": [
    {
     "name": "stdout",
     "output_type": "stream",
     "text": [
      "Number of rows in Barcelona Treatment: 974\n",
      "Number of rows in Barcelona Control: 990\n",
      "Number of rows in Lisbon Treatment: 1000\n",
      "Number of rows in Lisbon Control: 1000\n"
     ]
    }
   ],
   "source": [
    "# Counting rows in each DataFrame\n",
    "print(f\"Number of rows in Barcelona Treatment: {barcelona_t.shape[0]}\")\n",
    "print(f\"Number of rows in Barcelona Control: {barcelona_c.shape[0]}\")\n",
    "print(f\"Number of rows in Lisbon Treatment: {lisbon_t.shape[0]}\")\n",
    "print(f\"Number of rows in Lisbon Control: {lisbon_c.shape[0]}\")"
   ]
  },
  {
   "cell_type": "code",
   "execution_count": 4,
   "metadata": {},
   "outputs": [],
   "source": [
    "# Creating a treatment column\n",
    "barcelona_c['treatment'] = 0\n",
    "barcelona_t['treatment'] = 1\n",
    "lisbon_c['treatment'] = 0\n",
    "lisbon_t['treatment'] = 1\n",
    "\n",
    "# Creating a City column\n",
    "barcelona_c['barcelona'] = 1\n",
    "barcelona_t['barcelona'] = 1\n",
    "lisbon_c['barcelona'] = 0\n",
    "lisbon_t['barcelona'] = 0\n",
    "\n",
    "# Concatenating the dataframes\n",
    "df = pd.concat([barcelona_c, barcelona_t, lisbon_c, lisbon_t], axis=0)"
   ]
  },
  {
   "cell_type": "code",
   "execution_count": 5,
   "metadata": {},
   "outputs": [
    {
     "data": {
      "text/html": [
       "<div>\n",
       "<style scoped>\n",
       "    .dataframe tbody tr th:only-of-type {\n",
       "        vertical-align: middle;\n",
       "    }\n",
       "\n",
       "    .dataframe tbody tr th {\n",
       "        vertical-align: top;\n",
       "    }\n",
       "\n",
       "    .dataframe thead th {\n",
       "        text-align: right;\n",
       "    }\n",
       "</style>\n",
       "<table border=\"1\" class=\"dataframe\">\n",
       "  <thead>\n",
       "    <tr style=\"text-align: right;\">\n",
       "      <th></th>\n",
       "      <th>Name</th>\n",
       "      <th>Price</th>\n",
       "      <th>Rating</th>\n",
       "      <th>Hotel Link</th>\n",
       "      <th>Description</th>\n",
       "      <th>treatment</th>\n",
       "      <th>barcelona</th>\n",
       "    </tr>\n",
       "  </thead>\n",
       "  <tbody>\n",
       "    <tr>\n",
       "      <th>0</th>\n",
       "      <td>The Central House Barcelona Gracia</td>\n",
       "      <td>1158</td>\n",
       "      <td>8.6</td>\n",
       "      <td>https://www.booking.com/hotel/es/rodama3n-barc...</td>\n",
       "      <td>El TCH Barcelona Grácia está situado junto a l...</td>\n",
       "      <td>0</td>\n",
       "      <td>1</td>\n",
       "    </tr>\n",
       "    <tr>\n",
       "      <th>1</th>\n",
       "      <td>Sonder Paseo de Gracia</td>\n",
       "      <td>1313</td>\n",
       "      <td>8.2</td>\n",
       "      <td>https://www.booking.com/hotel/es/sonder-paseo-...</td>\n",
       "      <td>Sonder Paseo de Gracia está muy bien situado e...</td>\n",
       "      <td>0</td>\n",
       "      <td>1</td>\n",
       "    </tr>\n",
       "    <tr>\n",
       "      <th>2</th>\n",
       "      <td>Four Points by Sheraton Barcelona Airport</td>\n",
       "      <td>496</td>\n",
       "      <td>8.7</td>\n",
       "      <td>https://www.booking.com/hotel/es/four-points-b...</td>\n",
       "      <td>Four Points by Sheraton Barcelona Airport está...</td>\n",
       "      <td>0</td>\n",
       "      <td>1</td>\n",
       "    </tr>\n",
       "    <tr>\n",
       "      <th>3</th>\n",
       "      <td>ibis Styles Barcelona City Bogatell</td>\n",
       "      <td>699</td>\n",
       "      <td>8.4</td>\n",
       "      <td>https://www.booking.com/hotel/es/ibis-styles-b...</td>\n",
       "      <td>El ibis Styles Barcelona City Bogatell se encu...</td>\n",
       "      <td>0</td>\n",
       "      <td>1</td>\n",
       "    </tr>\n",
       "    <tr>\n",
       "      <th>4</th>\n",
       "      <td>Barcelona House</td>\n",
       "      <td>674</td>\n",
       "      <td>8.0</td>\n",
       "      <td>https://www.booking.com/hotel/es/barcelona-hou...</td>\n",
       "      <td>El Barcelona House Hotel se encuentra en el Ba...</td>\n",
       "      <td>0</td>\n",
       "      <td>1</td>\n",
       "    </tr>\n",
       "  </tbody>\n",
       "</table>\n",
       "</div>"
      ],
      "text/plain": [
       "                                        Name  Price  Rating  \\\n",
       "0         The Central House Barcelona Gracia   1158     8.6   \n",
       "1                     Sonder Paseo de Gracia   1313     8.2   \n",
       "2  Four Points by Sheraton Barcelona Airport    496     8.7   \n",
       "3        ibis Styles Barcelona City Bogatell    699     8.4   \n",
       "4                            Barcelona House    674     8.0   \n",
       "\n",
       "                                          Hotel Link  \\\n",
       "0  https://www.booking.com/hotel/es/rodama3n-barc...   \n",
       "1  https://www.booking.com/hotel/es/sonder-paseo-...   \n",
       "2  https://www.booking.com/hotel/es/four-points-b...   \n",
       "3  https://www.booking.com/hotel/es/ibis-styles-b...   \n",
       "4  https://www.booking.com/hotel/es/barcelona-hou...   \n",
       "\n",
       "                                         Description  treatment  barcelona  \n",
       "0  El TCH Barcelona Grácia está situado junto a l...          0          1  \n",
       "1  Sonder Paseo de Gracia está muy bien situado e...          0          1  \n",
       "2  Four Points by Sheraton Barcelona Airport está...          0          1  \n",
       "3  El ibis Styles Barcelona City Bogatell se encu...          0          1  \n",
       "4  El Barcelona House Hotel se encuentra en el Ba...          0          1  "
      ]
     },
     "execution_count": 5,
     "metadata": {},
     "output_type": "execute_result"
    }
   ],
   "source": [
    "df.head()"
   ]
  },
  {
   "cell_type": "markdown",
   "metadata": {},
   "source": [
    "### Checking avg prices before and during the event"
   ]
  },
  {
   "cell_type": "code",
   "execution_count": 6,
   "metadata": {},
   "outputs": [
    {
     "name": "stdout",
     "output_type": "stream",
     "text": [
      "\n",
      "Average Prices Before and During the Event by City:\n",
      "            Lisbon    Barcelona\n",
      "treatment                      \n",
      "0          976.945  1289.108081\n",
      "1          763.465  1826.013347\n"
     ]
    }
   ],
   "source": [
    "# Group by both treatment (event timing) and city (Barcelona vs. Lisbon)\n",
    "average_prices_by_city = df.groupby(['treatment', 'barcelona'])['Price'].mean().unstack()\n",
    "# Renaming columns for better clarity\n",
    "average_prices_by_city.columns = ['Lisbon', 'Barcelona']\n",
    "\n",
    "# Display results\n",
    "print(\"\\nAverage Prices Before and During the Event by City:\")\n",
    "print(average_prices_by_city)"
   ]
  },
  {
   "cell_type": "markdown",
   "metadata": {},
   "source": [
    "### Common trend assumption"
   ]
  },
  {
   "cell_type": "code",
   "execution_count": 8,
   "metadata": {},
   "outputs": [
    {
     "data": {
      "image/png": "[encoded data removed]",
      "text/plain": [
       "<Figure size 800x500 with 1 Axes>"
      ]
     },
     "metadata": {},
     "output_type": "display_data"
    }
   ],
   "source": [
    "# Calculate average price for each treatment period and city\n",
    "avg_prices = df.groupby(['treatment', 'barcelona'])['Price'].mean().reset_index()\n",
    "\n",
    "# Rename values for clarity\n",
    "avg_prices['City'] = avg_prices['barcelona'].map({0: 'Lisbon', 1: 'Barcelona'})\n",
    "avg_prices['Time'] = avg_prices['treatment'].map({0: 'Before Event', 1: 'During Event'})\n",
    "\n",
    "# Calculate the counterfactual trend for Barcelona\n",
    "lisbon_prices_before = avg_prices[(avg_prices['City'] == 'Lisbon') & (avg_prices['treatment'] == 0)]['Price'].values[0]\n",
    "lisbon_prices_during = avg_prices[(avg_prices['City'] == 'Lisbon') & (avg_prices['treatment'] == 1)]['Price'].values[0]\n",
    "\n",
    "# Calculate the percentage change in Lisbon's prices (control group trend)\n",
    "lisbon_price_change = (lisbon_prices_during - lisbon_prices_before) / lisbon_prices_before\n",
    "\n",
    "# Project Barcelona's counterfactual prices (if it had followed Lisbon's trend)\n",
    "barcelona_prices_before = avg_prices[(avg_prices['City'] == 'Barcelona') & (avg_prices['treatment'] == 0)]['Price'].values[0]\n",
    "barcelona_counterfactual_during = barcelona_prices_before * (1 + lisbon_price_change)\n",
    "\n",
    "# Create the plot\n",
    "plt.figure(figsize=(8, 5))\n",
    "\n",
    "# Plot actual price trends\n",
    "for city in avg_prices['City'].unique():\n",
    "    subset = avg_prices[avg_prices['City'] == city]\n",
    "    plt.plot(subset['treatment'], subset['Price'], marker='o', linestyle='-', label=f\"Actual {city}\")\n",
    "\n",
    "# Plot counterfactual line for Barcelona\n",
    "plt.plot([0, 1], [barcelona_prices_before, barcelona_counterfactual_during], linestyle='--', color='red', label=\"Counterfactual Barcelona\")\n",
    "\n",
    "# Customize the plot\n",
    "plt.xlabel('Time Period')\n",
    "plt.ylabel('Average Hotel Price')\n",
    "plt.title('Common Trend Assumption Check: Barcelona vs. Lisbon')\n",
    "plt.xticks([0, 1], ['Before Event', 'During Event'])\n",
    "plt.legend(title='Legend')\n",
    "plt.grid(True)\n",
    "\n",
    "# Show the plot\n",
    "plt.show()"
   ]
  },
  {
   "cell_type": "markdown",
   "metadata": {},
   "source": [
    "### DiD Estimation"
   ]
  },
  {
   "cell_type": "code",
   "execution_count": 26,
   "metadata": {},
   "outputs": [
    {
     "name": "stdout",
     "output_type": "stream",
     "text": [
      "                            OLS Regression Results                            \n",
      "==============================================================================\n",
      "Dep. Variable:                  Price   R-squared:                       0.215\n",
      "Model:                            OLS   Adj. R-squared:                  0.215\n",
      "Method:                 Least Squares   F-statistic:                     340.1\n",
      "Date:                Fri, 31 Jan 2025   Prob (F-statistic):          1.63e-196\n",
      "Time:                        14:35:50   Log-Likelihood:                -31922.\n",
      "No. Observations:                3964   AIC:                         6.385e+04\n",
      "Df Residuals:                    3960   BIC:                         6.388e+04\n",
      "Df Model:                           3                                         \n",
      "Covariance Type:                  HC1                                         \n",
      "==============================================================================\n",
      "                 coef    std err          t      P>|t|      [0.025      0.975]\n",
      "------------------------------------------------------------------------------\n",
      "Intercept    976.9450     17.849     54.735      0.000     941.951    1011.939\n",
      "treatment   -213.4800     21.508     -9.926      0.000    -255.648    -171.312\n",
      "barcelona    312.1631     30.310     10.299      0.000     252.739     371.587\n",
      "did          750.3853     48.731     15.399      0.000     654.846     845.925\n",
      "==============================================================================\n",
      "Omnibus:                     5009.897   Durbin-Watson:                   1.349\n",
      "Prob(Omnibus):                  0.000   Jarque-Bera (JB):          1805400.366\n",
      "Skew:                           6.546   Prob(JB):                         0.00\n",
      "Kurtosis:                     106.727   Cond. No.                         6.81\n",
      "==============================================================================\n",
      "\n",
      "Notes:\n",
      "[1] Standard Errors are heteroscedasticity robust (HC1)\n"
     ]
    }
   ],
   "source": [
    "import pandas as pd\n",
    "import statsmodels.api as sm\n",
    "import statsmodels.formula.api as smf\n",
    "\n",
    "# Create the Interaction Term (DiD Variable)\n",
    "df['did'] = df['barcelona'] * df['treatment']\n",
    "\n",
    "# Run Fixed Effects Model with Time and City Fixed Effects\n",
    "model_fe = smf.ols('Price ~ treatment + barcelona + did', data=df).fit()\n",
    "\n",
    "# Get robust standard errors\n",
    "robust_model = model_fe.get_robustcov_results(cov_type='HC1')\n",
    "\n",
    "# Print results\n",
    "print(robust_model.summary())\n",
    "\n"
   ]
  },
  {
   "cell_type": "markdown",
   "metadata": {},
   "source": [
    "(b) How would you use text features from the description as controls? Think about\n",
    "the text in the descriptions you scraped. How would this help? Why would terms\n",
    "like \"Barcelona\" not help?\n"
   ]
  },
  {
   "cell_type": "code",
   "execution_count": null,
   "metadata": {},
   "outputs": [],
   "source": []
  },
  {
   "cell_type": "markdown",
   "metadata": {},
   "source": [
    "(c) Now suppose we want to decompose the treatment effect by hotel quality. Can\n",
    "you use the text description here? How would you use them to study heterogenous\n",
    "treatment effects? Write down a regression equation.\n"
   ]
  },
  {
   "cell_type": "markdown",
   "metadata": {},
   "source": []
  }
 ],
 "metadata": {
  "kernelspec": {
   "display_name": "myenv",
   "language": "python",
   "name": "python3"
  },
  "language_info": {
   "codemirror_mode": {
    "name": "ipython",
    "version": 3
   },
   "file_extension": ".py",
   "mimetype": "text/x-python",
   "name": "python",
   "nbconvert_exporter": "python",
   "pygments_lexer": "ipython3",
   "version": "3.9.20"
  }
 },
 "nbformat": 4,
 "nbformat_minor": 2
}
